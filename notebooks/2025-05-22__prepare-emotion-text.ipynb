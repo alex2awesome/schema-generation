{
 "cells": [
  {
   "cell_type": "code",
   "execution_count": 8,
   "metadata": {},
   "outputs": [
    {
     "name": "stdout",
     "output_type": "stream",
     "text": [
      "goemotions_1.csv  goemotions_2.csv  goemotions_3.csv\n"
     ]
    }
   ],
   "source": [
    "ls ../experiments/emotions/data/"
   ]
  },
  {
   "cell_type": "code",
   "execution_count": 1,
   "metadata": {},
   "outputs": [],
   "source": [
    "import pandas as pd\n",
    "import glob\n",
    "import os\n",
    "\n",
    "full_df = []\n",
    "for file in glob.glob('../experiments/emotions/data/*.csv'):\n",
    "    df = pd.read_csv(file)\n",
    "    full_df.append(df)\n",
    "full_df = pd.concat(full_df)"
   ]
  },
  {
   "cell_type": "code",
   "execution_count": 29,
   "metadata": {},
   "outputs": [
    {
     "data": {
      "text/plain": [
       "'../experiments/emotions/data/goemotions_2.csv'"
      ]
     },
     "execution_count": 29,
     "metadata": {},
     "output_type": "execute_result"
    }
   ],
   "source": [
    "file"
   ]
  },
  {
   "cell_type": "code",
   "execution_count": 2,
   "metadata": {},
   "outputs": [
    {
     "data": {
      "text/plain": [
       "(211225, 37)"
      ]
     },
     "execution_count": 2,
     "metadata": {},
     "output_type": "execute_result"
    }
   ],
   "source": [
    "full_df.shape "
   ]
  },
  {
   "cell_type": "code",
   "execution_count": 5,
   "metadata": {},
   "outputs": [
    {
     "data": {
      "text/plain": [
       "neutral           55298\n",
       "approval          17620\n",
       "admiration        17131\n",
       "annoyance         13618\n",
       "gratitude         11625\n",
       "disapproval       11424\n",
       "curiosity          9692\n",
       "amusement          9245\n",
       "realization        8785\n",
       "optimism           8715\n",
       "disappointment     8469\n",
       "love               8191\n",
       "anger              8084\n",
       "joy                7983\n",
       "confusion          7359\n",
       "sadness            6758\n",
       "caring             5999\n",
       "excitement         5629\n",
       "surprise           5514\n",
       "disgust            5301\n",
       "desire             3817\n",
       "fear               3197\n",
       "remorse            2525\n",
       "embarrassment      2476\n",
       "nervousness        1810\n",
       "pride              1302\n",
       "relief             1289\n",
       "grief               673\n",
       "dtype: int64"
      ]
     },
     "execution_count": 5,
     "metadata": {},
     "output_type": "execute_result"
    }
   ],
   "source": [
    "emotion_columns = ['admiration',\n",
    "       'amusement', 'anger', 'annoyance', 'approval', 'caring', 'confusion',\n",
    "       'curiosity', 'desire', 'disappointment', 'disapproval', 'disgust',\n",
    "       'embarrassment', 'excitement', 'fear', 'gratitude', 'grief', 'joy',\n",
    "       'love', 'nervousness', 'optimism', 'pride', 'realization', 'relief',\n",
    "       'remorse', 'sadness', 'surprise', 'neutral']\n",
    "\n",
    "full_df[emotion_columns].sum().sort_values(ascending=False)"
   ]
  },
  {
   "cell_type": "code",
   "execution_count": 10,
   "metadata": {},
   "outputs": [
    {
     "data": {
      "text/plain": [
       "['That game hurt.',\n",
       " ' >sexuality shouldn’t be a grouping category It makes you different from othet ppl so imo it fits the definition of \"grouping\" ',\n",
       " \"You do right, if you don't care then fuck 'em!\",\n",
       " 'Man I love reddit.',\n",
       " '[NAME] was nowhere near them, he was by the Falcon. ']"
      ]
     },
     "execution_count": 10,
     "metadata": {},
     "output_type": "execute_result"
    }
   ],
   "source": [
    "full_df['text'].head().tolist()"
   ]
  },
  {
   "cell_type": "code",
   "execution_count": 17,
   "metadata": {},
   "outputs": [],
   "source": [
    "from tqdm.auto import tqdm\n",
    "tqdm.pandas()"
   ]
  },
  {
   "cell_type": "code",
   "execution_count": 19,
   "metadata": {},
   "outputs": [
    {
     "data": {
      "application/vnd.jupyter.widget-view+json": {
       "model_id": "d8a4ced268364d4c92c450745f8caa28",
       "version_major": 2,
       "version_minor": 0
      },
      "text/plain": [
       "  0%|          | 0/211225 [00:00<?, ?it/s]"
      ]
     },
     "metadata": {},
     "output_type": "display_data"
    }
   ],
   "source": [
    "emotions_condensed = full_df.progress_apply(lambda x: x[emotion_columns].loc[lambda s: s == 1].index.tolist(), axis=1)"
   ]
  },
  {
   "cell_type": "code",
   "execution_count": 20,
   "metadata": {},
   "outputs": [
    {
     "data": {
      "text/plain": [
       "0                      [sadness]\n",
       "1                             []\n",
       "2                      [neutral]\n",
       "3                         [love]\n",
       "4                      [neutral]\n",
       "                  ...           \n",
       "69995    [excitement, joy, love]\n",
       "69996                  [neutral]\n",
       "69997                  [disgust]\n",
       "69998         [anger, annoyance]\n",
       "69999               [admiration]\n",
       "Length: 211225, dtype: object"
      ]
     },
     "execution_count": 20,
     "metadata": {},
     "output_type": "execute_result"
    }
   ],
   "source": [
    "emotions_condensed"
   ]
  },
  {
   "cell_type": "code",
   "execution_count": 21,
   "metadata": {},
   "outputs": [],
   "source": [
    "data_df = full_df[['text', 'id'] + emotion_columns]"
   ]
  },
  {
   "cell_type": "code",
   "execution_count": 31,
   "metadata": {},
   "outputs": [
    {
     "data": {
      "text/html": [
       "<div>\n",
       "<style scoped>\n",
       "    .dataframe tbody tr th:only-of-type {\n",
       "        vertical-align: middle;\n",
       "    }\n",
       "\n",
       "    .dataframe tbody tr th {\n",
       "        vertical-align: top;\n",
       "    }\n",
       "\n",
       "    .dataframe thead th {\n",
       "        text-align: right;\n",
       "    }\n",
       "</style>\n",
       "<table border=\"1\" class=\"dataframe\">\n",
       "  <thead>\n",
       "    <tr style=\"text-align: right;\">\n",
       "      <th></th>\n",
       "      <th>text</th>\n",
       "      <th>id</th>\n",
       "      <th>admiration</th>\n",
       "      <th>amusement</th>\n",
       "      <th>anger</th>\n",
       "      <th>annoyance</th>\n",
       "      <th>approval</th>\n",
       "      <th>caring</th>\n",
       "      <th>confusion</th>\n",
       "      <th>curiosity</th>\n",
       "      <th>...</th>\n",
       "      <th>love</th>\n",
       "      <th>nervousness</th>\n",
       "      <th>optimism</th>\n",
       "      <th>pride</th>\n",
       "      <th>realization</th>\n",
       "      <th>relief</th>\n",
       "      <th>remorse</th>\n",
       "      <th>sadness</th>\n",
       "      <th>surprise</th>\n",
       "      <th>neutral</th>\n",
       "    </tr>\n",
       "  </thead>\n",
       "  <tbody>\n",
       "    <tr>\n",
       "      <th>0</th>\n",
       "      <td>That game hurt.</td>\n",
       "      <td>eew5j0j</td>\n",
       "      <td>0</td>\n",
       "      <td>0</td>\n",
       "      <td>0</td>\n",
       "      <td>0</td>\n",
       "      <td>0</td>\n",
       "      <td>0</td>\n",
       "      <td>0</td>\n",
       "      <td>0</td>\n",
       "      <td>...</td>\n",
       "      <td>0</td>\n",
       "      <td>0</td>\n",
       "      <td>0</td>\n",
       "      <td>0</td>\n",
       "      <td>0</td>\n",
       "      <td>0</td>\n",
       "      <td>0</td>\n",
       "      <td>1</td>\n",
       "      <td>0</td>\n",
       "      <td>0</td>\n",
       "    </tr>\n",
       "    <tr>\n",
       "      <th>1</th>\n",
       "      <td>&gt;sexuality shouldn’t be a grouping category I...</td>\n",
       "      <td>eemcysk</td>\n",
       "      <td>0</td>\n",
       "      <td>0</td>\n",
       "      <td>0</td>\n",
       "      <td>0</td>\n",
       "      <td>0</td>\n",
       "      <td>0</td>\n",
       "      <td>0</td>\n",
       "      <td>0</td>\n",
       "      <td>...</td>\n",
       "      <td>0</td>\n",
       "      <td>0</td>\n",
       "      <td>0</td>\n",
       "      <td>0</td>\n",
       "      <td>0</td>\n",
       "      <td>0</td>\n",
       "      <td>0</td>\n",
       "      <td>0</td>\n",
       "      <td>0</td>\n",
       "      <td>0</td>\n",
       "    </tr>\n",
       "  </tbody>\n",
       "</table>\n",
       "<p>2 rows × 30 columns</p>\n",
       "</div>"
      ],
      "text/plain": [
       "                                                text       id  admiration  \\\n",
       "0                                    That game hurt.  eew5j0j           0   \n",
       "1   >sexuality shouldn’t be a grouping category I...  eemcysk           0   \n",
       "\n",
       "   amusement  anger  annoyance  approval  caring  confusion  curiosity  ...  \\\n",
       "0          0      0          0         0       0          0          0  ...   \n",
       "1          0      0          0         0       0          0          0  ...   \n",
       "\n",
       "   love  nervousness  optimism  pride  realization  relief  remorse  sadness  \\\n",
       "0     0            0         0      0            0       0        0        1   \n",
       "1     0            0         0      0            0       0        0        0   \n",
       "\n",
       "   surprise  neutral  \n",
       "0         0        0  \n",
       "1         0        0  \n",
       "\n",
       "[2 rows x 30 columns]"
      ]
     },
     "execution_count": 31,
     "metadata": {},
     "output_type": "execute_result"
    }
   ],
   "source": [
    "data_df.head(2)"
   ]
  },
  {
   "cell_type": "code",
   "execution_count": 25,
   "metadata": {},
   "outputs": [
    {
     "data": {
      "text/html": [
       "<div>\n",
       "<style scoped>\n",
       "    .dataframe tbody tr th:only-of-type {\n",
       "        vertical-align: middle;\n",
       "    }\n",
       "\n",
       "    .dataframe tbody tr th {\n",
       "        vertical-align: top;\n",
       "    }\n",
       "\n",
       "    .dataframe thead th {\n",
       "        text-align: right;\n",
       "    }\n",
       "</style>\n",
       "<table border=\"1\" class=\"dataframe\">\n",
       "  <thead>\n",
       "    <tr style=\"text-align: right;\">\n",
       "      <th></th>\n",
       "      <th>text</th>\n",
       "      <th>admiration</th>\n",
       "    </tr>\n",
       "  </thead>\n",
       "  <tbody>\n",
       "    <tr>\n",
       "      <th>15</th>\n",
       "      <td>I appreciate it, that's good to know. I hope I...</td>\n",
       "      <td>1</td>\n",
       "    </tr>\n",
       "    <tr>\n",
       "      <th>18</th>\n",
       "      <td>Pretty much every Punjabi dude I've met.</td>\n",
       "      <td>1</td>\n",
       "    </tr>\n",
       "    <tr>\n",
       "      <th>28</th>\n",
       "      <td>Lots, play store or apple store vpn. Nord is good</td>\n",
       "      <td>1</td>\n",
       "    </tr>\n",
       "    <tr>\n",
       "      <th>35</th>\n",
       "      <td>nice!! I'll try this one</td>\n",
       "      <td>1</td>\n",
       "    </tr>\n",
       "    <tr>\n",
       "      <th>50</th>\n",
       "      <td>She’s like a kewpie doll with them. Precious.</td>\n",
       "      <td>1</td>\n",
       "    </tr>\n",
       "    <tr>\n",
       "      <th>...</th>\n",
       "      <td>...</td>\n",
       "      <td>...</td>\n",
       "    </tr>\n",
       "    <tr>\n",
       "      <th>69939</th>\n",
       "      <td>You better be!</td>\n",
       "      <td>1</td>\n",
       "    </tr>\n",
       "    <tr>\n",
       "      <th>69948</th>\n",
       "      <td>damn thats good</td>\n",
       "      <td>1</td>\n",
       "    </tr>\n",
       "    <tr>\n",
       "      <th>69957</th>\n",
       "      <td>Watch it!! It's amazing</td>\n",
       "      <td>1</td>\n",
       "    </tr>\n",
       "    <tr>\n",
       "      <th>69991</th>\n",
       "      <td>I like this response. I can’t give you gold bu...</td>\n",
       "      <td>1</td>\n",
       "    </tr>\n",
       "    <tr>\n",
       "      <th>69999</th>\n",
       "      <td>I mean, you can definitely beat someone up pas...</td>\n",
       "      <td>1</td>\n",
       "    </tr>\n",
       "  </tbody>\n",
       "</table>\n",
       "<p>17131 rows × 2 columns</p>\n",
       "</div>"
      ],
      "text/plain": [
       "                                                    text  admiration\n",
       "15     I appreciate it, that's good to know. I hope I...           1\n",
       "18              Pretty much every Punjabi dude I've met.           1\n",
       "28     Lots, play store or apple store vpn. Nord is good           1\n",
       "35                              nice!! I'll try this one           1\n",
       "50         She’s like a kewpie doll with them. Precious.           1\n",
       "...                                                  ...         ...\n",
       "69939                                     You better be!           1\n",
       "69948                                    damn thats good           1\n",
       "69957                            Watch it!! It's amazing           1\n",
       "69991  I like this response. I can’t give you gold bu...           1\n",
       "69999  I mean, you can definitely beat someone up pas...           1\n",
       "\n",
       "[17131 rows x 2 columns]"
      ]
     },
     "execution_count": 25,
     "metadata": {},
     "output_type": "execute_result"
    }
   ],
   "source": [
    "data_df.loc[lambda df: df[emotion_columns[0]] == 1][['text', emotion_columns[0]]]"
   ]
  },
  {
   "cell_type": "code",
   "execution_count": 27,
   "metadata": {},
   "outputs": [],
   "source": [
    "data_df.to_csv('../experiments/emotions/data/combined_emotions.csv', index=False)"
   ]
  },
  {
   "cell_type": "code",
   "execution_count": null,
   "metadata": {},
   "outputs": [],
   "source": []
  },
  {
   "cell_type": "code",
   "execution_count": null,
   "metadata": {},
   "outputs": [],
   "source": []
  },
  {
   "cell_type": "code",
   "execution_count": null,
   "metadata": {},
   "outputs": [],
   "source": []
  },
  {
   "cell_type": "code",
   "execution_count": null,
   "metadata": {},
   "outputs": [],
   "source": []
  },
  {
   "cell_type": "code",
   "execution_count": null,
   "metadata": {},
   "outputs": [],
   "source": []
  },
  {
   "cell_type": "code",
   "execution_count": 35,
   "metadata": {},
   "outputs": [],
   "source": [
    "mv ../experiments/hate-speech/finegrained_reply.csv ../experiments/hate-speech/data/"
   ]
  },
  {
   "cell_type": "code",
   "execution_count": 39,
   "metadata": {},
   "outputs": [],
   "source": [
    "hate_speech_df = pd.read_csv('../experiments/hate-speech/data/finegrained_reply.csv')"
   ]
  },
  {
   "cell_type": "code",
   "execution_count": 67,
   "metadata": {},
   "outputs": [],
   "source": [
    "from unidecode import unidecode\n",
    "# how to regex unescape \n",
    "import re \n",
    "def unescape(text):\n",
    "    return re.sub(r'\\\\(.)', r'\\1', text)\n",
    "\n",
    "import html\n",
    "import re\n",
    "\n",
    "def clean_text(text):\n",
    "    # Step 1: Unescape HTML entities\n",
    "    text = html.unescape(text)\n",
    "    \n",
    "    # Step 2: Remove zero-width characters (like U+200B)\n",
    "    text = re.sub(r'[\\u200B\\u200C\\u200D\\uFEFF]', '', text)\n",
    "\n",
    "    # Step 3: Remove backslash-escaped characters\n",
    "    text = re.sub(r'\\\\+([^\\\\])', r'\\1', text)\n",
    "    \n",
    "    # Step 4: Clean up any remaining HTML entities\n",
    "    text = re.sub(r'&[a-zA-Z]+;', '', text)\n",
    "    text = re.sub(r'&[#a-zA-Z0-9]+;', '', text)\n",
    "    \n",
    "    # Step 5: Normalize whitespace (preserve newlines but clean up other whitespace)\n",
    "    text = re.sub(r'[ \\t]+', ' ', text)\n",
    "    \n",
    "    return text.strip()"
   ]
  },
  {
   "cell_type": "code",
   "execution_count": 68,
   "metadata": {},
   "outputs": [
    {
     "data": {
      "text/plain": [
       "'\\\\&gt;actually beliving the jewish iq meme\\n\\nyeah man ashkenazis are pretty smart. largely due to the fact that they posses high ammounts of european dna that they preserved through millenia of inbreeding.\\n\\n&amp;#x200B;\\n\\nkhazarians and the other nosed folk are borderline retarded'"
      ]
     },
     "execution_count": 68,
     "metadata": {},
     "output_type": "execute_result"
    }
   ],
   "source": [
    "hate_speech_df['Hate_body'].iloc[0]"
   ]
  },
  {
   "cell_type": "code",
   "execution_count": 76,
   "metadata": {},
   "outputs": [],
   "source": [
    "hate_speech_df['Hate_body'] = hate_speech_df['Hate_body'].str.replace('\\n', ' ').apply(clean_text)"
   ]
  },
  {
   "cell_type": "code",
   "execution_count": 77,
   "metadata": {},
   "outputs": [],
   "source": [
    "hate_speech_df['Reply_body'] = hate_speech_df['Reply_body'].str.replace('\\n', ' ').apply(clean_text)"
   ]
  },
  {
   "cell_type": "code",
   "execution_count": 79,
   "metadata": {},
   "outputs": [],
   "source": [
    "hate_speech_df.to_csv('../experiments/hate-speech/data/finegrained_reply_cleaned.csv', index=False)"
   ]
  },
  {
   "cell_type": "code",
   "execution_count": 82,
   "metadata": {},
   "outputs": [
    {
     "data": {
      "text/plain": [
       "Hate_ID\n",
       "hgjbnp0    41\n",
       "gyek6xd    36\n",
       "gnvk4mo    31\n",
       "gw24xuz    24\n",
       "h1546zi    21\n",
       "           ..\n",
       "hcxy9n2     1\n",
       "gmwclya     1\n",
       "he3hi1q     1\n",
       "go3hv3v     1\n",
       "h5dvew2     1\n",
       "Name: count, Length: 1065, dtype: int64"
      ]
     },
     "execution_count": 82,
     "metadata": {},
     "output_type": "execute_result"
    }
   ],
   "source": [
    "hate_speech_df['Hate_ID'].value_counts()"
   ]
  },
  {
   "cell_type": "code",
   "execution_count": 84,
   "metadata": {},
   "outputs": [
    {
     "data": {
      "text/html": [
       "<div>\n",
       "<style scoped>\n",
       "    .dataframe tbody tr th:only-of-type {\n",
       "        vertical-align: middle;\n",
       "    }\n",
       "\n",
       "    .dataframe tbody tr th {\n",
       "        vertical-align: top;\n",
       "    }\n",
       "\n",
       "    .dataframe thead th {\n",
       "        text-align: right;\n",
       "    }\n",
       "</style>\n",
       "<table border=\"1\" class=\"dataframe\">\n",
       "  <thead>\n",
       "    <tr style=\"text-align: right;\">\n",
       "      <th></th>\n",
       "      <th>Hate_ID</th>\n",
       "      <th>Reply_ID</th>\n",
       "      <th>Hate_body</th>\n",
       "      <th>Reply_body</th>\n",
       "      <th>Gold_label</th>\n",
       "    </tr>\n",
       "  </thead>\n",
       "  <tbody>\n",
       "    <tr>\n",
       "      <th>0</th>\n",
       "      <td>ehjlqzo</td>\n",
       "      <td>ehk3o7u</td>\n",
       "      <td>&gt;actually beliving the jewish iq meme yeah man...</td>\n",
       "      <td>they fucking are, at least i think they are. i...</td>\n",
       "      <td>agree</td>\n",
       "    </tr>\n",
       "    <tr>\n",
       "      <th>1</th>\n",
       "      <td>ehjlqzo</td>\n",
       "      <td>ehkpe3e</td>\n",
       "      <td>&gt;actually beliving the jewish iq meme yeah man...</td>\n",
       "      <td>So if inbreeding preserves that southern redne...</td>\n",
       "      <td>justification</td>\n",
       "    </tr>\n",
       "  </tbody>\n",
       "</table>\n",
       "</div>"
      ],
      "text/plain": [
       "   Hate_ID Reply_ID                                          Hate_body  \\\n",
       "0  ehjlqzo  ehk3o7u  >actually beliving the jewish iq meme yeah man...   \n",
       "1  ehjlqzo  ehkpe3e  >actually beliving the jewish iq meme yeah man...   \n",
       "\n",
       "                                          Reply_body     Gold_label  \n",
       "0  they fucking are, at least i think they are. i...          agree  \n",
       "1  So if inbreeding preserves that southern redne...  justification  "
      ]
     },
     "execution_count": 84,
     "metadata": {},
     "output_type": "execute_result"
    }
   ],
   "source": [
    "hate_speech_df.head(2)"
   ]
  },
  {
   "cell_type": "code",
   "execution_count": 49,
   "metadata": {},
   "outputs": [
    {
     "name": "stdout",
     "output_type": "stream",
     "text": [
      "\\&gt;actually beliving the jewish iq meme\n",
      "\n",
      "yeah man ashkenazis are pretty smart. largely due to the fact that they posses high ammounts of european dna that they preserved through millenia of inbreeding.\n",
      "\n",
      "&amp;#x200B;\n",
      "\n",
      "khazarians and the other nosed folk are borderline retarded\n"
     ]
    }
   ],
   "source": [
    "print(hate_speech_df['Hate_body'].iloc[0])"
   ]
  },
  {
   "cell_type": "markdown",
   "metadata": {},
   "source": [
    "# Discourse"
   ]
  },
  {
   "cell_type": "code",
   "execution_count": 133,
   "metadata": {},
   "outputs": [],
   "source": [
    "df = pd.read_json('../experiments/news-discourse/data/reparsed-newsworthiness-df.jsonl', lines=True)"
   ]
  },
  {
   "cell_type": "code",
   "execution_count": 134,
   "metadata": {},
   "outputs": [
    {
     "data": {
      "text/html": [
       "<div>\n",
       "<style scoped>\n",
       "    .dataframe tbody tr th:only-of-type {\n",
       "        vertical-align: middle;\n",
       "    }\n",
       "\n",
       "    .dataframe tbody tr th {\n",
       "        vertical-align: top;\n",
       "    }\n",
       "\n",
       "    .dataframe thead th {\n",
       "        text-align: right;\n",
       "    }\n",
       "</style>\n",
       "<table border=\"1\" class=\"dataframe\">\n",
       "  <thead>\n",
       "    <tr style=\"text-align: right;\">\n",
       "      <th></th>\n",
       "      <th>sentence</th>\n",
       "      <th>label</th>\n",
       "      <th>split</th>\n",
       "    </tr>\n",
       "  </thead>\n",
       "  <tbody>\n",
       "    <tr>\n",
       "      <th>0</th>\n",
       "      <td>[FRANKFURT (Reuters) - German conglomerate Thy...</td>\n",
       "      <td>[Main, Main, Main, Main, Main, Main_Consequenc...</td>\n",
       "      <td>train</td>\n",
       "    </tr>\n",
       "    <tr>\n",
       "      <th>1</th>\n",
       "      <td>[(Updates with valuation from source in paragr...</td>\n",
       "      <td>[NA, Distant_Expectations_Consequences, Distan...</td>\n",
       "      <td>train</td>\n",
       "    </tr>\n",
       "    <tr>\n",
       "      <th>2</th>\n",
       "      <td>[NEW YORK (Reuters) - Global equity markets fe...</td>\n",
       "      <td>[Main, Cause_General, NA, Distant_Evaluation, ...</td>\n",
       "      <td>train</td>\n",
       "    </tr>\n",
       "    <tr>\n",
       "      <th>3</th>\n",
       "      <td>[(Reuters) - Activist investor Daniel Loeb’s h...</td>\n",
       "      <td>[Main, Cause_General, Main_Consequence, Cause_...</td>\n",
       "      <td>train</td>\n",
       "    </tr>\n",
       "    <tr>\n",
       "      <th>4</th>\n",
       "      <td>[(Reuters) - Health insurer Aetna Inc AET.N sa...</td>\n",
       "      <td>[Main, Distant_Expectations_Consequences, Caus...</td>\n",
       "      <td>train</td>\n",
       "    </tr>\n",
       "    <tr>\n",
       "      <th>...</th>\n",
       "      <td>...</td>\n",
       "      <td>...</td>\n",
       "      <td>...</td>\n",
       "    </tr>\n",
       "    <tr>\n",
       "      <th>797</th>\n",
       "      <td>[MUTUAL fund managers are unfairly blamed for ...</td>\n",
       "      <td>[Main, Distant_Evaluation, Distant_Evaluation,...</td>\n",
       "      <td>test</td>\n",
       "    </tr>\n",
       "    <tr>\n",
       "      <th>798</th>\n",
       "      <td>[IF 2006 proved anything, it's that aging bull...</td>\n",
       "      <td>[Distant_Evaluation, Cause_General, Cause_Gene...</td>\n",
       "      <td>test</td>\n",
       "    </tr>\n",
       "    <tr>\n",
       "      <th>799</th>\n",
       "      <td>[MERGERS and acquisitions have been booming, a...</td>\n",
       "      <td>[Main, Distant_Evaluation, Distant_Evaluation,...</td>\n",
       "      <td>test</td>\n",
       "    </tr>\n",
       "    <tr>\n",
       "      <th>800</th>\n",
       "      <td>[IN the last three months, as Americans debate...</td>\n",
       "      <td>[Distant_Evaluation, Distant_Evaluation, Dista...</td>\n",
       "      <td>test</td>\n",
       "    </tr>\n",
       "    <tr>\n",
       "      <th>801</th>\n",
       "      <td>[President Bush's new Iraq policy will establi...</td>\n",
       "      <td>[Main, Distant_Expectations_Consequences, Dist...</td>\n",
       "      <td>test</td>\n",
       "    </tr>\n",
       "  </tbody>\n",
       "</table>\n",
       "<p>802 rows × 3 columns</p>\n",
       "</div>"
      ],
      "text/plain": [
       "                                              sentence  \\\n",
       "0    [FRANKFURT (Reuters) - German conglomerate Thy...   \n",
       "1    [(Updates with valuation from source in paragr...   \n",
       "2    [NEW YORK (Reuters) - Global equity markets fe...   \n",
       "3    [(Reuters) - Activist investor Daniel Loeb’s h...   \n",
       "4    [(Reuters) - Health insurer Aetna Inc AET.N sa...   \n",
       "..                                                 ...   \n",
       "797  [MUTUAL fund managers are unfairly blamed for ...   \n",
       "798  [IF 2006 proved anything, it's that aging bull...   \n",
       "799  [MERGERS and acquisitions have been booming, a...   \n",
       "800  [IN the last three months, as Americans debate...   \n",
       "801  [President Bush's new Iraq policy will establi...   \n",
       "\n",
       "                                                 label  split  \n",
       "0    [Main, Main, Main, Main, Main, Main_Consequenc...  train  \n",
       "1    [NA, Distant_Expectations_Consequences, Distan...  train  \n",
       "2    [Main, Cause_General, NA, Distant_Evaluation, ...  train  \n",
       "3    [Main, Cause_General, Main_Consequence, Cause_...  train  \n",
       "4    [Main, Distant_Expectations_Consequences, Caus...  train  \n",
       "..                                                 ...    ...  \n",
       "797  [Main, Distant_Evaluation, Distant_Evaluation,...   test  \n",
       "798  [Distant_Evaluation, Cause_General, Cause_Gene...   test  \n",
       "799  [Main, Distant_Evaluation, Distant_Evaluation,...   test  \n",
       "800  [Distant_Evaluation, Distant_Evaluation, Dista...   test  \n",
       "801  [Main, Distant_Expectations_Consequences, Dist...   test  \n",
       "\n",
       "[802 rows x 3 columns]"
      ]
     },
     "execution_count": 134,
     "metadata": {},
     "output_type": "execute_result"
    }
   ],
   "source": [
    "df"
   ]
  },
  {
   "cell_type": "code",
   "execution_count": null,
   "metadata": {},
   "outputs": [],
   "source": []
  },
  {
   "cell_type": "code",
   "execution_count": 93,
   "metadata": {},
   "outputs": [],
   "source": [
    "import glob\n",
    "all_files = glob.glob('../experiments/news-discourse/data/*/**', recursive=True)\n"
   ]
  },
  {
   "cell_type": "code",
   "execution_count": null,
   "metadata": {},
   "outputs": [],
   "source": [
    "txt_files = list(filter(lambda x: x.endswith('.txt'), all_files))\n",
    "ann_files = list(filter(lambda x: x.endswith('.ann'), all_files))"
   ]
  },
  {
   "cell_type": "code",
   "execution_count": 111,
   "metadata": {},
   "outputs": [],
   "source": [
    "text_file_df = (pd.Series(txt_files)\n",
    " .to_frame('text_file')\n",
    " .assign(split=lambda df: df['text_file'].apply(lambda x: 'train' if '/train/' in x else 'dev' if '/validation/' in x else 'test' if '/test/' in x else 'unknown'))\n",
    " .assign(file_name=lambda df: df['text_file'].apply(lambda x: x.split('/')[-1].replace('.txt', '')))\n",
    ")\n",
    "\n",
    "\n"
   ]
  },
  {
   "cell_type": "code",
   "execution_count": 112,
   "metadata": {},
   "outputs": [],
   "source": [
    "ann_file_df = (pd.Series(ann_files)\n",
    " .to_frame('ann_file')\n",
    " .assign(split=lambda df: df['ann_file'].apply(lambda x: 'train' if '/train/' in x else 'dev' if '/validation/' in x else 'test' if '/test/' in x else 'unknown'))\n",
    " .assign(file_name=lambda df: df['ann_file'].apply(lambda x: x.split('/')[-1].replace('.ann', '')))\n",
    ")"
   ]
  },
  {
   "cell_type": "code",
   "execution_count": 118,
   "metadata": {},
   "outputs": [],
   "source": [
    "full_file_df = ann_file_df[['ann_file', 'file_name']].merge(text_file_df, on='file_name', how='left')"
   ]
  },
  {
   "cell_type": "code",
   "execution_count": null,
   "metadata": {},
   "outputs": [],
   "source": [
    "ann_file, _, text_file, _ = full_file_df.iloc[0]"
   ]
  },
  {
   "cell_type": "code",
   "execution_count": 126,
   "metadata": {},
   "outputs": [],
   "source": [
    "ann_split = list(map(lambda x: x.split('\\t'), open(ann_file).read().strip().split('\\n')))"
   ]
  },
  {
   "cell_type": "code",
   "execution_count": 130,
   "metadata": {},
   "outputs": [],
   "source": [
    "ann_split = list(filter(lambda x: x[0][0] =='T', ann_split))"
   ]
  },
  {
   "cell_type": "code",
   "execution_count": 132,
   "metadata": {},
   "outputs": [
    {
     "data": {
      "text/plain": [
       "['H  GYULA HORN, WHO HELPED PART IRON CURTAIN, DIES AT 80 ',\n",
       " '',\n",
       " 'S1  Gyula Horn, a former leader of Hungary who in 1989 ripped a hole in the Iron Curtain, helping to set off months of tumultuous change in which communist governments in Eastern Europe fell one after the other, died Wednesday in Budapest.',\n",
       " 'S2 He was 80.',\n",
       " '',\n",
       " 'S3  The Hungarian government announced the death.',\n",
       " 'S4 He had been hospitalized since 2007 with what was reported to be a brain malfunction.',\n",
       " '',\n",
       " 'S5  Horn’s life encompassed much of the history of 20th-century Hungary.',\n",
       " 'S6 His father, a communist, was executed by the Nazis occupying Hungary in 1944.',\n",
       " 'S7 Gyula (pronounced JOO-la) also became a hard-line communist, serving in militia units that hunted down government opponents during their revolt in 1956.',\n",
       " 'S8 The rebels lynched his brother, also a communist.',\n",
       " '',\n",
       " 'S9  As foreign minister, as Moscow’s grip on Eastern Europe slipped, Horn proved nimble as a newly minted, nonideological, pragmatic reformer in helping to lead Hungary away from communism.',\n",
       " 'S10 Elected prime minister as a socialist in 1994, he angered Hungarians by cutting social programs to stanch raging inflation.',\n",
       " '',\n",
       " 'S11  Horn’s indelible image was a photograph taken of him and Alois Mock, the Austrian foreign minister, on June 27, 1989, cutting through once-electrified barbed wire on the border between their two countries.',\n",
       " 'S12 The men seemed to be tearing the Iron Curtain, the daunting symbol of the ideological rivalry and actual physical boundary between communist and non-communist Europe.',\n",
       " '',\n",
       " 'S13  The truth was that the removal of the fence had begun two months earlier, because it was badly in need of repair.',\n",
       " 'S14 But the critical meaning of the stunt - which dozens of photographers were invited to document - was that it provoked no reaction in the Soviet Union, although it had tens of thousands of troops stationed in Hungary.',\n",
       " '',\n",
       " 'S15  Horn said his purpose was to create “an irreversible situation.”',\n",
       " '',\n",
       " 'S16  Events accelerated.',\n",
       " 'S17 East Germans, who had long gone to Hungary to meet with West German friends and relatives, refused to return home.',\n",
       " 'S18 The border police turned a blind eye when several hundred slipped across to Austria during a picnic Aug. 19.',\n",
       " 'S19 Three weeks after the picnic, Horn appeared on Hungarian television and announced that the East Germans were free to cross the border.',\n",
       " '',\n",
       " 'S20  Two months later, the Berlin Wall was breached and communist dictatorships began to fall.',\n",
       " 'S21 In 1990, Horn was awarded the Charlemagne Prize - whose winners include Winston Churchill and Vaclav Havel, the former Czech president - for laying “one of the foundation stones for European unity.” The prize is given by the city of Aachen, Germany.',\n",
       " '',\n",
       " 'S22  Gyula Horn was born July 5, 1932, in Budapest, the capital.',\n",
       " 'S23 The third of eight children, he was raised in a working-class district of the city.',\n",
       " 'S24 After the Gestapo killed his father, he went to work at 11 in manual labor jobs.',\n",
       " 'S25 In 1950 he was sent to Russia to study accounting at an economics institute in Rostov on Don.',\n",
       " 'S26 He returned to work in Hungary’s Finance Ministry.',\n",
       " '',\n",
       " 'S27  He joined the Foreign Ministry in 1959 and served as a diplomat in Bulgaria and Romania before working his way up to deputy foreign minister in 1985 and foreign minister in 1989.',\n",
       " '',\n",
       " 'S28  After Hungarians rebelled against the communist government in 1956, he joined a brigade that helped hunt down and arrest democratic activists.',\n",
       " 'S29 He never denied taking these actions, but said he had never hurt anybody.',\n",
       " 'S30 Nonetheless, two Hungarian presidents vetoed his nomination for high national awards in 2002 and 2007 because of his actions during and after the uprising.',\n",
       " '',\n",
       " 'S31  In the 1970s, Horn worked cautiously to liberalize government controls in Hungary in an experiment that came to be known as “goulash communism.” As even that system collapsed, he was instrumental in transforming the Communist Party into the Hungarian Socialist Party.',\n",
       " 'S32 He became the party’s chairman in 1990.',\n",
       " '',\n",
       " 'S33  He was elected to Parliament the same year and retained his seat until 2010.',\n",
       " 'S34 In the 1994 election, he led the Socialists to a majority.',\n",
       " 'S35 But in forming a government he included liberals as a way to reassure Hungarians and foreigners who were concerned that the former Communist Party might regain power.',\n",
       " 'S36 He stepped down after his party lost in 1998.',\n",
       " '',\n",
       " 'S37  Horn is survived by his wife, Anna Kiraly; a daughter, Anna; and a son, Gyula Jr.']"
      ]
     },
     "execution_count": 132,
     "metadata": {},
     "output_type": "execute_result"
    }
   ],
   "source": [
    "open(text_file).read().strip().split('\\n')"
   ]
  },
  {
   "cell_type": "code",
   "execution_count": null,
   "metadata": {},
   "outputs": [],
   "source": []
  },
  {
   "cell_type": "code",
   "execution_count": null,
   "metadata": {},
   "outputs": [],
   "source": []
  }
 ],
 "metadata": {
  "kernelspec": {
   "display_name": "base",
   "language": "python",
   "name": "python3"
  },
  "language_info": {
   "codemirror_mode": {
    "name": "ipython",
    "version": 3
   },
   "file_extension": ".py",
   "mimetype": "text/x-python",
   "name": "python",
   "nbconvert_exporter": "python",
   "pygments_lexer": "ipython3",
   "version": "3.12.2"
  }
 },
 "nbformat": 4,
 "nbformat_minor": 2
}
