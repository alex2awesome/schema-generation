{
 "cells": [
  {
   "cell_type": "code",
   "execution_count": 150,
   "id": "e447ea34-045f-4b66-9250-24974ed4f485",
   "metadata": {},
   "outputs": [],
   "source": [
    "from sklearn.model_selection import train_test_split"
   ]
  },
  {
   "cell_type": "code",
   "execution_count": 100,
   "id": "744f7c38-f713-4160-8bd3-f0523ed237b5",
   "metadata": {},
   "outputs": [],
   "source": [
    "import pandas as pd\n",
    "import glob\n",
    "import spacy \n",
    "from tqdm.auto import tqdm\n",
    "import random\n",
    "import numpy as np\n",
    "nlp = spacy.load(\"en_core_web_lg\")"
   ]
  },
  {
   "cell_type": "code",
   "execution_count": 13,
   "id": "dce78d0c-e4d3-45d5-9e5a-19dfe6a96cf1",
   "metadata": {
    "scrolled": true
   },
   "outputs": [],
   "source": [
    "texts = glob.glob('../experiments/corpus-webis-editorials-16/annotated-txt/split-by-portal-final/*/*')"
   ]
  },
  {
   "cell_type": "code",
   "execution_count": 105,
   "id": "e49eb4ee-5191-4be0-873e-37e0f4b578a4",
   "metadata": {},
   "outputs": [
    {
     "data": {
      "application/vnd.jupyter.widget-view+json": {
       "model_id": "3b56beb33a02464ebcd9afc6f5aa581c",
       "version_major": 2,
       "version_minor": 0
      },
      "text/plain": [
       "  0%|          | 0/300 [00:00<?, ?it/s]"
      ]
     },
     "metadata": {},
     "output_type": "display_data"
    }
   ],
   "source": [
    "all_sent_dat_dfs = []\n",
    "for text in tqdm(texts):\n",
    "    flines = open(text).read().strip().split('\\n')\n",
    "    for line in flines:\n",
    "        splits = line.split('\\t')[:3]\n",
    "\n",
    "    lines_df = pd.Series(flines).str.split('\\t',expand=True).iloc[:, :3]\n",
    "    lines_df.columns = ['label_idx', 'label', 'sent_frag']\n",
    "    lines_df = (\n",
    "        lines_df\n",
    "             .assign(sent_frag=lambda df: df['sent_frag'] + ' ')\n",
    "             .assign(str_len=lambda df: df['sent_frag'].str.len())\n",
    "             .assign(end_idx=lambda df: df['str_len'].cumsum())\n",
    "             .assign(start_idx=lambda df: [0] + df['end_idx'].iloc[:-1].tolist())\n",
    "             [['label_idx', 'label', 'sent_frag', 'str_len', 'start_idx', 'end_idx']]\n",
    "    )\n",
    "\n",
    "    # Join everything into a single string\n",
    "    full_text = \"\".join(lines_df['sent_frag'].tolist()).strip()\n",
    "    \n",
    "    doc = nlp(full_text)\n",
    "    sentence_data = []\n",
    "    for sent in doc.sents:\n",
    "        sent_start = sent.start_char\n",
    "        sent_end = sent.end_char\n",
    "        overlapping_labels = []\n",
    "        for _, (frag_start, frag_end, frag_label_dict) in lines_df[['start_idx', 'end_idx', 'label']].iterrows():\n",
    "            if (frag_start < sent_end) and (frag_end > sent_start):\n",
    "                overlapping_labels.append(frag_label_dict)\n",
    "        \n",
    "        sentence_data.append({\n",
    "            \"sentence_text\": sent.text,\n",
    "            \"sentence_char_span\": (sent_start, sent_end),\n",
    "            \"overlapping_fragment_labels\": overlapping_labels\n",
    "        })\n",
    "\n",
    "    sent_dat_df = pd.DataFrame(sentence_data)\n",
    "    sent_dat_df['doc_index'] = text\n",
    "    all_sent_dat_dfs.append(sent_dat_df)"
   ]
  },
  {
   "cell_type": "code",
   "execution_count": 107,
   "id": "20da2ece-699b-4616-819e-b125380ee8cf",
   "metadata": {},
   "outputs": [],
   "source": [
    "full_sent_dat_df = pd.concat(all_sent_dat_dfs)"
   ]
  },
  {
   "cell_type": "code",
   "execution_count": 110,
   "id": "aabcad85-85c5-4121-bed3-70a2eeafea82",
   "metadata": {},
   "outputs": [
    {
     "data": {
      "text/plain": [
       "overlapping_fragment_labels\n",
       "continued        25950\n",
       "no-unit          16401\n",
       "assumption        9811\n",
       "par-sep           4664\n",
       "anecdote          2611\n",
       "testimony         1093\n",
       "statistics         421\n",
       "title              328\n",
       "common-ground      243\n",
       "other              171\n",
       "Name: count, dtype: int64"
      ]
     },
     "execution_count": 110,
     "metadata": {},
     "output_type": "execute_result"
    }
   ],
   "source": [
    "full_sent_dat_df['overlapping_fragment_labels'].explode().value_counts()"
   ]
  },
  {
   "cell_type": "code",
   "execution_count": null,
   "id": "3cb90469-e9fe-4dbf-82fb-53323959e670",
   "metadata": {},
   "outputs": [],
   "source": [
    "to_exclude = set(['continued', 'no-unit', 'par-sep'])\n",
    "full_sent_dat_df['overlapping_fragment_labels'] = (\n",
    "    full_sent_dat_df['overlapping_fragment_labels']\n",
    "         .apply(lambda x: list(filter(lambda y: y not in to_exclude, x)))\n",
    "         .apply(lambda x: list(set(x)))\n",
    "         .apply(lambda x: random.choice(x) if len(x) > 0 else np.nan)\n",
    ")\n",
    "\n",
    "full_sent_dat_df = (\n",
    "    full_sent_dat_df\n",
    "         .drop(columns=['sentence_char_span'])\n",
    "         .reset_index()\n",
    "         .rename(columns={'index': 'sent_index'})\n",
    " # ['overlapping_fragment_labels'].str.len().value_counts()\n",
    " # .loc[lambda df: df['overlapping_fragment_labels'].str.len() > 2]\n",
    " # .iloc[-1].to_dict()\n",
    ")"
   ]
  },
  {
   "cell_type": "code",
   "execution_count": 163,
   "id": "91421aff-6587-42b5-ac90-044fd9dfcf69",
   "metadata": {},
   "outputs": [],
   "source": [
    "train_doc_ids, test_doc_ids = train_test_split(full_sent_dat_df['doc_index'].drop_duplicates().tolist(), test_size=.25)\n",
    "val_doc_ids, test_doc_ids = train_test_split(test_doc_ids, test_size=.2)\n",
    "train_doc_ids, val_doc_ids, test_doc_ids = set(train_doc_ids), set(val_doc_ids), set(test_doc_ids)"
   ]
  },
  {
   "cell_type": "code",
   "execution_count": 169,
   "id": "f7380b7a-b7f9-42f3-a836-f54db0bb87cd",
   "metadata": {},
   "outputs": [],
   "source": [
    "full_sent_dat_df = (\n",
    "    full_sent_dat_df\n",
    "     .assign(split=lambda df: df['doc_index'].apply(lambda x: 'train' if x in train_doc_ids else ('val' if x in val_doc_ids else 'test')))\n",
    ")"
   ]
  },
  {
   "cell_type": "code",
   "execution_count": 170,
   "id": "cb936d16-8ea1-4925-a83f-9df3bce01864",
   "metadata": {},
   "outputs": [],
   "source": [
    "full_sent_dat_df.to_csv('../experiments/editorial-discourse.csv')"
   ]
  },
  {
   "cell_type": "code",
   "execution_count": null,
   "id": "481de443-96ec-48da-945b-dd553349e980",
   "metadata": {},
   "outputs": [],
   "source": []
  },
  {
   "cell_type": "code",
   "execution_count": 173,
   "id": "e63a4f96-40ca-4f3a-b017-69593de705f0",
   "metadata": {},
   "outputs": [],
   "source": [
    "g = (full_sent_dat_df\n",
    " .groupby('doc_index')\n",
    " # .apply(lambda df: df.sort_values('sent_index'))\n",
    ")"
   ]
  },
  {
   "cell_type": "code",
   "execution_count": 176,
   "id": "6eb990c5-39c0-4b56-aaba-c9cc0d78110b",
   "metadata": {},
   "outputs": [],
   "source": [
    "for doc_index, g_i in g:\n",
    "    g_i"
   ]
  },
  {
   "cell_type": "code",
   "execution_count": 178,
   "id": "2085cbcd-caa2-4136-a721-53323ed9f31c",
   "metadata": {
    "scrolled": true
   },
   "outputs": [
    {
     "data": {
      "text/plain": [
       "'Zero suicides is an admirable aim but it requires all-out change.   On Monday, Nick Clegg pledged to sign up the NHS to a national \"zero suicide\" campaign . This comes in a week when I have spent a lot of time talking to the media about depression in an attempt to get people to support Calm and the other charities that are doing incredible work to help people coping with mental illness . I have appeared on national radio, in the press and on television to talk about my story , but the more coverage I get , the more I ask : why me?   Let me make this clear . I am not famous , I am not trying to be famous . I am a normal lad who made mistakes, lived a lie, and eventually attempted to take my own life . I am just another statistic . Someone who suffered from an illness that took over my life and made me a person I didn\\'t recognise . There is absolutely nothing special or unique about me . Yet I am getting calls from people asking me to share my story . The fact that I am newsworthy , simply because I have spoken openly about the demons I was facing , makes me think that we are being greatly let down by society .   Suicide is the biggest single killer of men aged 20-49 in the UK . It\\'s a statistic that, no matter how many times I say it , continues to shock me to the core . Yet it\\'s something that few people seem to be talking about openly , if at all . I get it , we\\'re British . Sometimes we don\\'t like talking about things that make us uncomfortable . Sometimes we\\'d rather not ask the question because we can\\'t handle the answer . But that simply cannot continue . It\\'s time that people are made to stand up and face the harsh reality .   The fear of being judged is preventing people from talking about their secret turmoil . There is very little being done by the people who have the biggest influence to remove those fears, remove the stigmas , to get people talking about mental health , and make people comfortable with the subject . The media doesn\\'t just have influence , it has a responsibility to help communicate a message and set an agenda . Yes, things are changing , but it can\\'t be right that the furthest we\\'ve come is having someone receive live therapy on air with Phillip Schofield or a soap character crashing a minibus .   There is too much box-ticking going on . A petition signed , a campaign joined , an empty promise in an election year . All very good but what do they actually do? Do they help save enough lives? The system needs changing from top to bottom . There is no consistency or urgency, despite the high rate of men dying from suicide . What bigger wake-up call do you need?   I would ask David Cameron to speak up and tell us what he is going to do . To meet me , to let me introduce him to the small team at Calm , the volunteers, the campaigners, the people on the end of phones with someone\\'s life in their hands . Let me show him people who feel as if they have nowhere to turn . Let me show him the lack of knowledge of some people working in GP surgeries, and the pressure that those who make a positive difference are working under , as rates of mental illness increase continually . Let me show how so little can make such a big difference .   If Nick Clegg is serious about mental health then he needs to show it . It\\'s great that he has decided that we need to aim for zero suicides but I wonder , what was the aim before this? Just a few suicides? A hundred? Shouldn\\'t the aim always have been zero? The likes of Calm, Mind, The Samaritans and everyone else, are doing incredible work but it shouldn\\'t be left to them to do it all alone . They can only work with the limited resources they have . They need supporting and backing . We need to put faces and voices to genuine experiences . Speaking out about dealing with depression shouldn\\'t be considered a \"brave\" act ; it shouldn\\'t be an extraordinary or unusual story to read . It should be common . It should be accepted . It should be normal . But while we live in a society that doesn\\'t know how to deal with it , and perhaps does not want to deal with it , we cannot expect people to talk openly about such private matters .   Much focus is placed on those who are suffering , and rightly so , but in order to truly help them , we need to make everyone else comfortable and knowledgeable enough to know what to do , how to act , and know how to signpost people to the help that is out there . We need to be talking about mental illness in schools . We need to make in-depth training compulsory in the workplace . We need to be training taxi drivers, bar staff, hairdressers - people who will find out more about a person through a casual conversation than their friends will ever know . We need to normalise talking about the realities of depression , to normalise conversations about the very real prospect of suicide - it is the only way we can move forward together . We need a radical change from top to bottom . Therapy isn\\'t just about lying on a couch while someone writes down your childhood memories . It\\'s about feeling comfortable enough to say you\\'re not OK .'"
      ]
     },
     "execution_count": 178,
     "metadata": {},
     "output_type": "execute_result"
    }
   ],
   "source": [
    "g_i\n",
    "g_i['sentence_text'].str.cat(sep=' ')"
   ]
  },
  {
   "cell_type": "code",
   "execution_count": null,
   "id": "5c5bbb73-66db-4f89-a1aa-b785cce6c3a9",
   "metadata": {},
   "outputs": [],
   "source": []
  },
  {
   "cell_type": "code",
   "execution_count": null,
   "id": "ce11d300-e8c0-4f92-ad6a-f9a747aae3d3",
   "metadata": {},
   "outputs": [],
   "source": []
  },
  {
   "cell_type": "code",
   "execution_count": null,
   "id": "9cbb4964-a666-4d97-9800-dfb35e4a9e88",
   "metadata": {},
   "outputs": [],
   "source": []
  },
  {
   "cell_type": "code",
   "execution_count": null,
   "id": "25ca9188-3b06-4ab1-91fc-c7bd416a5eab",
   "metadata": {},
   "outputs": [],
   "source": []
  },
  {
   "cell_type": "code",
   "execution_count": null,
   "id": "56abf017-e79d-4d26-b864-995088f68bf6",
   "metadata": {},
   "outputs": [],
   "source": []
  },
  {
   "cell_type": "code",
   "execution_count": null,
   "id": "c9e11104-72f9-4e7e-8e99-059175a4b8aa",
   "metadata": {},
   "outputs": [],
   "source": []
  },
  {
   "cell_type": "code",
   "execution_count": null,
   "id": "2bd88239-113a-4da2-9878-e8140235a224",
   "metadata": {},
   "outputs": [],
   "source": []
  }
 ],
 "metadata": {
  "kernelspec": {
   "display_name": "Python 3 (ipykernel)",
   "language": "python",
   "name": "python3"
  },
  "language_info": {
   "codemirror_mode": {
    "name": "ipython",
    "version": 3
   },
   "file_extension": ".py",
   "mimetype": "text/x-python",
   "name": "python",
   "nbconvert_exporter": "python",
   "pygments_lexer": "ipython3",
   "version": "3.12.2"
  }
 },
 "nbformat": 4,
 "nbformat_minor": 5
}
